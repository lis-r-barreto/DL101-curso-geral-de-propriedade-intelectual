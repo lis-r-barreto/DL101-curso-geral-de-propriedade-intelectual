{
  "nbformat": 4,
  "nbformat_minor": 0,
  "metadata": {
    "colab": {
      "name": "08_Informacao_Tecnologica.ipynb",
      "provenance": [],
      "authorship_tag": "ABX9TyOjqUE7dNpDCvfPymjlwfi4",
      "include_colab_link": true
    },
    "kernelspec": {
      "name": "python3",
      "display_name": "Python 3"
    }
  },
  "cells": [
    {
      "cell_type": "markdown",
      "metadata": {
        "id": "view-in-github",
        "colab_type": "text"
      },
      "source": [
        "<a href=\"https://colab.research.google.com/github/lis-r-barreto/DL101-curso-geral-de-propriedade-intelectual/blob/master/08_Informacao_Tecnologica.ipynb\" target=\"_parent\"><img src=\"https://colab.research.google.com/assets/colab-badge.svg\" alt=\"Open In Colab\"/></a>"
      ]
    },
    {
      "cell_type": "markdown",
      "metadata": {
        "id": "OWZ9GCrL-m6Y",
        "colab_type": "text"
      },
      "source": [
        "# **Informação Tecnológica - Teste de fim de módulo**"
      ]
    },
    {
      "cell_type": "markdown",
      "metadata": {
        "id": "lawIzTKb-vJg",
        "colab_type": "text"
      },
      "source": [
        "# Questão 1\n",
        "Quais são as partes em que se divide um documento de patentes?\n",
        "\n",
        "Escolha uma:\n",
        "\n",
        "(a) Folha de rosto e resumo\n",
        "\n",
        "(b) Relatório descritivo, reivindicações, resumo e desenhos (quando houver)\n",
        "\n",
        "(c) Resumo e desenhos\n",
        "\n",
        "(d) Relatório descritivo e reivindicações\n",
        "\n",
        "**Resposta:  (b) Relatório descritivo, reivindicações, resumo e desenhos (quando houver).** \n"
      ]
    },
    {
      "cell_type": "markdown",
      "metadata": {
        "id": "bBYrpyp0_5Vh",
        "colab_type": "text"
      },
      "source": [
        "# Questão 2\n",
        "Em que parte do documento de patente encontra-se a proteção conferida pela patente?\n",
        "\n",
        "\n",
        "Escolha uma:\n",
        "\n",
        "(a) Resumo\n",
        "\n",
        "(b) Relatório descritivo Incorreto\n",
        "\n",
        "(c) Reivindicações\n",
        "\n",
        "(d) Folha de rosto\n",
        "\n",
        "**Resposta: (c) Reivindicações.**"
      ]
    }
  ]
}