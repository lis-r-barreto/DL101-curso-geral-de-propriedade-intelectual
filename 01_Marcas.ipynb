{
  "nbformat": 4,
  "nbformat_minor": 0,
  "metadata": {
    "colab": {
      "name": "Quizz01-Marcas.ipynb",
      "provenance": [],
      "authorship_tag": "ABX9TyP0LH/QhR3Jkl9PFIRGYweO",
      "include_colab_link": true
    },
    "kernelspec": {
      "name": "python3",
      "display_name": "Python 3"
    }
  },
  "cells": [
    {
      "cell_type": "markdown",
      "metadata": {
        "id": "view-in-github",
        "colab_type": "text"
      },
      "source": [
        "<a href=\"https://colab.research.google.com/github/lis-r-barreto/DL101-curso-geral-de-propriedade-intelectual/blob/master/01_Marcas.ipynb\" target=\"_parent\"><img src=\"https://colab.research.google.com/assets/colab-badge.svg\" alt=\"Open In Colab\"/></a>"
      ]
    },
    {
      "cell_type": "markdown",
      "metadata": {
        "id": "GpzbJwPrXLJu",
        "colab_type": "text"
      },
      "source": [
        "# **Marcas - Teste de fim de módulo**"
      ]
    },
    {
      "cell_type": "markdown",
      "metadata": {
        "id": "zs_OI9JUUhUQ",
        "colab_type": "text"
      },
      "source": [
        "# Questão 1\n",
        "Além de palavras, letras, nomes e abreviações, que outros exemplos podem ser considerados marcas? (não se restringir à legislação brasileira).\n",
        "\n",
        "Escolha uma:\n",
        "* objetos tridimensionais, como embalagens distintivas;\n",
        "* marcas constituídas por logotipos;\n",
        "* marcas olfativas ou perfumes;\n",
        "* todos os exemplos acima.\n",
        "\n",
        "\n",
        "\n",
        "**Resposta: todos os exemplos acima.**"
      ]
    },
    {
      "cell_type": "markdown",
      "metadata": {
        "id": "N-fJ5ClFU9yZ",
        "colab_type": "text"
      },
      "source": [
        "# Questão 2\n",
        "A marca suscetível de induzir a erro pode ser:\n",
        "\n",
        "Escolha uma:\n",
        "* um rótulo que contenha o nome de uma região quando na realidade o produto não é procedente dessa região (por exemplo, Bordeaux);\n",
        "* uma imagem que não descreve o produto com precisão (Apple para computadores, por exemplo);\n",
        "* um nome que evoque o produto (i.e. Mootel para estábulos portáteis).\n",
        "\n",
        "**Resposta: um rótulo que contenha o nome de uma região quando na realidade o produto não é procedente dessa região (por exemplo, Bordeaux).**"
      ]
    },
    {
      "cell_type": "markdown",
      "metadata": {
        "id": "K5muc7-jVK83",
        "colab_type": "text"
      },
      "source": [
        "# Questão 3\n",
        "Um dos dois principais requisitos segundo o Acordo de Madri é que:\n",
        "\n",
        "Escolha uma:\n",
        "* a marca deve apresentar um elemento distintivo e não ser suscetível de induzir em erro;\n",
        "* a marca deve descrever os produtos ou serviços que representa;\n",
        "* a marca deve ser registrada pela Comissão Mundial de Registro de Marcas (WCTR).\n",
        "\n",
        "**Resposta: a marca deve apresentar um elemento distintivo e não ser suscetível de induzir em erro.**"
      ]
    },
    {
      "cell_type": "markdown",
      "metadata": {
        "id": "eCu8RBDPVmK8",
        "colab_type": "text"
      },
      "source": [
        "# Questão 4\n",
        "A marca que não foi registrada somente terá a proteção marcária se:\n",
        "\n",
        "Escolha uma:\n",
        "* um tribunal nacional reconhecer a marca como original;\n",
        "*já tenha decorrido um lapso de tempo, no qual a mesma se tornou notoriamente conhecida em seu ramo de atuação;\n",
        "* o produto que representa é um produto alimentar ou uma bebida.\n",
        "\n",
        "**Resposta: já tenha decorrido um lapso de tempo, no qual a mesma se tornou notoriamente conhecida em seu ramo de atuação.**\n"
      ]
    },
    {
      "cell_type": "markdown",
      "metadata": {
        "id": "VUgr5T6UWIz7",
        "colab_type": "text"
      },
      "source": [
        "# Questão 5 \n",
        "O símbolo de um cavalo para representar uma marca de barcos a vela é considerado:\n",
        "\n",
        "Escolha uma:\n",
        "* distintivo;\n",
        "* descritivo;\n",
        "* suscetível de induzir em erro.\n",
        "\n",
        "**A resposta correta é: distintivo.**"
      ]
    },
    {
      "cell_type": "markdown",
      "metadata": {
        "id": "FewYP9haWXL-",
        "colab_type": "text"
      },
      "source": [
        "# Questão 6 \n",
        "O proprietário de uma marca tem o direito de impedir terceiro de utilizá-la.\n",
        "\n",
        "Escolha uma opção:\n",
        "* Verdadeiro\n",
        "* Falso \n",
        "\n",
        "**Resposta: 'Verdadeiro'**"
      ]
    },
    {
      "cell_type": "markdown",
      "metadata": {
        "id": "T6TldA5hWnf1",
        "colab_type": "text"
      },
      "source": [
        "# Questão 7 \n",
        "Em qual destes casos podemos afirmar que se trata de uma marca de natureza coletiva?\n",
        "\n",
        "Escolha uma:\n",
        "\n",
        "(a) uma marca de titularidade de uma LTDA, licenciada para uso por diversas outras empresas, ligadas ou não à primeira\n",
        "\n",
        "(b) uma marca de titularidade de uma LTDA, usada para assinalar uma série de produtos do portfólio desta mesma empresa\n",
        "\n",
        "(c) uma marca de titularidade de uma associação, utilizada por seus membros de acordo com um regulamento de utilização Correto\n",
        "\n",
        "(d) Nenhuma das respostas anteriores\n",
        "\n",
        "\n",
        "**Resposta: (c) uma marca de titularidade de uma associação, utilizada por seus membros de acordo com um regulamento de utilização.**\n"
      ]
    },
    {
      "cell_type": "markdown",
      "metadata": {
        "id": "3DOPoVwUW0WG",
        "colab_type": "text"
      },
      "source": [
        "# Questão 8 \n",
        "Assinale a afirmativa INCORRETA\n",
        "\n",
        "Escolha uma:\n",
        "\n",
        "(a) A propriedade da marca se adquire com o registro, validamente expedido, sendo assegurado ao seu titular o uso exclusivo do sinal em todo o território nacional\n",
        "\n",
        "(b) A Lei da Propriedade Industrial não permite o registro de marcas olfativas ou sonoras\n",
        "\n",
        "(c) As marcas de alto renome são protegidas em todos os segmentos mercadológicos, constituindo-se assim em uma exceção ao princípio da especialidade\n",
        "\n",
        "(d) Após a concessão do registro de marca, só resta a via judicial como forma de anulação deste ato\n",
        "\n",
        "**Resposta: (d) Após a concessão do registro de marca, só resta a via judicial como forma de anulação deste ato.**"
      ]
    }
  ]
}