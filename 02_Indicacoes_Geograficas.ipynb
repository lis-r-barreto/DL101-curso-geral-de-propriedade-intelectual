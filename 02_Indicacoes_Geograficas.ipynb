{
  "nbformat": 4,
  "nbformat_minor": 0,
  "metadata": {
    "colab": {
      "name": "02_Indicacoes_Geograficas.ipynb",
      "provenance": [],
      "authorship_tag": "ABX9TyOMyYhmYC0Co7j+RFXg/kFn",
      "include_colab_link": true
    },
    "kernelspec": {
      "name": "python3",
      "display_name": "Python 3"
    }
  },
  "cells": [
    {
      "cell_type": "markdown",
      "metadata": {
        "id": "view-in-github",
        "colab_type": "text"
      },
      "source": [
        "<a href=\"https://colab.research.google.com/github/lis-r-barreto/DL101-curso-geral-de-propriedade-intelectual/blob/master/02_Indicacoes_Geograficas.ipynb\" target=\"_parent\"><img src=\"https://colab.research.google.com/assets/colab-badge.svg\" alt=\"Open In Colab\"/></a>"
      ]
    },
    {
      "cell_type": "markdown",
      "metadata": {
        "id": "w8LHIHLSURUx",
        "colab_type": "text"
      },
      "source": [
        "# **Indicações Geográficas - Teste de fim de módulo**"
      ]
    },
    {
      "cell_type": "markdown",
      "metadata": {
        "id": "WlhT6n20UWhM",
        "colab_type": "text"
      },
      "source": [
        "# Questão 1\n",
        "Qual a finalidade da indicação geográfica?\n",
        "\n",
        "Escolha uma:\n",
        "* Promover o comércio, informando ao consumidor a origem dos produtos.\n",
        "* A obtenção de uma marca de modo mais barato.\n",
        "* Proteger o processo industrial.\n",
        "* Proteger o logotipo com o direito de autor.\n",
        "\n",
        "**Resposta: Promover o comércio, informando ao consumidor a origem dos produtos.**"
      ]
    },
    {
      "cell_type": "markdown",
      "metadata": {
        "id": "AEiVxtjyU4Bv",
        "colab_type": "text"
      },
      "source": [
        "# Questão 2\n",
        "Qual dos exemplos a seguir é uma indicação geográfica?\n",
        "\n",
        "Escolha uma:\n",
        "* Ford\n",
        "* Lego\n",
        "* Vinho Bordeaux\n",
        "* Coca Cola\n",
        "* France\n",
        "\n",
        "**Resposta: Vinho Bordeaux.**"
      ]
    },
    {
      "cell_type": "markdown",
      "metadata": {
        "id": "ekh9iMOxVHUl",
        "colab_type": "text"
      },
      "source": [
        "# Questão 3\n",
        "Escolha dois métodos de proteção das indicações geográficas em âmbito nacional.\n",
        "\n",
        "a) Por lei. \n",
        "\n",
        "b) Pela legislação sobre direito de autor.\n",
        "\n",
        "c) Pela aplicação do TRIPS.\n",
        "\n",
        "d) Através do registro.\n",
        "\n",
        "Escolha uma:\n",
        "* a & b\n",
        "* a & c\n",
        "* a & d\n",
        "* b & c\n",
        "* b & d\n",
        "\n",
        "**Resposta: a & d.**"
      ]
    },
    {
      "cell_type": "markdown",
      "metadata": {
        "id": "zDqBY4f4VgSF",
        "colab_type": "text"
      },
      "source": [
        "# Questão 4\n",
        "Escolha, na lista abaixo, o tratado administrado pela OMPI referente à proteção das denominações de origem.\n",
        "\n",
        "Escolha uma:\n",
        "* O Acordo de Haia.\n",
        "* O Acordo de Madri.\n",
        "* O Acordo de Lisboa.\n",
        "* A Convenção de Roma.\n",
        "\n",
        "**Resposta: O Acordo de Lisboa.**"
      ]
    },
    {
      "cell_type": "markdown",
      "metadata": {
        "id": "Co_n9gnbVuqm",
        "colab_type": "text"
      },
      "source": [
        "# Questão 5\n",
        "Se determinada cidade, região ou localidade são reconhecidas por seu produto de artesanato, qual das seguintes proteções no INPI seria a mais adequada?\n",
        "\n",
        "Escolha uma:\n",
        "\n",
        "a) Patentes\n",
        "\n",
        "b) Desenho industrial\n",
        "\n",
        "c) Segredo industrial\n",
        "\n",
        "d) Indicação geográfica\n",
        "\n",
        "e) Produto de artesanato não é passível de proteção no INPI\n",
        "\n",
        "**Resposta: d) Indicação geográfica.**"
      ]
    },
    {
      "cell_type": "markdown",
      "metadata": {
        "id": "CHqkgdqVWFNF",
        "colab_type": "text"
      },
      "source": [
        "# Questão 6\n",
        "Em 2010, determinada Associação de Produtores de vinho obteve o Registro de Indicação Geográfica na Itália. Esta Indicação de Procedência é reconhecida no Brasil automaticamente?\n",
        "\n",
        "Escolha uma:\n",
        "\n",
        "a) Sim, o registro de Indicação Geográfica é internacional\n",
        "\n",
        "b) Não, o registro estrangeiro não é reconhecido no Brasil\n",
        "\n",
        "c) Não é reconhecido automaticamente. O pedido de registro deve ser depositado, protocolado, submetido a exame formal, publicado e então é proferida a decisão de reconhecimento ou não\n",
        "\n",
        "d) A Indicação Geográfica só é válida no país de origem do produto não podendo ser registrada em outro país\n",
        "\n",
        "e) O registro de Indicação Geográfica válido para vinhos é concedido por entidade internacional\n",
        "\n",
        "**Resposta: c) Não é reconhecido automaticamente. O pedido de registro deve ser depositado, protocolado, submetido a exame formal, publicado e então é proferida a decisão de reconhecimento ou não.**"
      ]
    }
  ]
}