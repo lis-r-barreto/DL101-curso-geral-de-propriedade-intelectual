{
  "nbformat": 4,
  "nbformat_minor": 0,
  "metadata": {
    "colab": {
      "name": "03_Patentes.ipynb",
      "provenance": [],
      "authorship_tag": "ABX9TyO5cJqmMSSCXzF/mhOJBIVj",
      "include_colab_link": true
    },
    "kernelspec": {
      "name": "python3",
      "display_name": "Python 3"
    }
  },
  "cells": [
    {
      "cell_type": "markdown",
      "metadata": {
        "id": "view-in-github",
        "colab_type": "text"
      },
      "source": [
        "<a href=\"https://colab.research.google.com/github/lis-r-barreto/DL101-curso-geral-de-propriedade-intelectual/blob/master/03_Patentes.ipynb\" target=\"_parent\"><img src=\"https://colab.research.google.com/assets/colab-badge.svg\" alt=\"Open In Colab\"/></a>"
      ]
    },
    {
      "cell_type": "markdown",
      "metadata": {
        "id": "ag8uWXw_ci1R",
        "colab_type": "text"
      },
      "source": [
        "# **Patentes - Teste de fim de módulo**"
      ]
    },
    {
      "cell_type": "markdown",
      "metadata": {
        "id": "pbI7z1WrctUI",
        "colab_type": "text"
      },
      "source": [
        "# Questão 1\n",
        "Escolha, da lista abaixo, duas respostas corretas para a questão: Quando a patente expira,\n",
        "\n",
        "a) é automaticamente protegida por outro prazo de 20 anos. \n",
        "\n",
        "b) passa para o domínio público, para livre utilização. \n",
        "\n",
        "c) Torna-se segredo de fábrica. \n",
        "\n",
        "d) Pode ser explorada sem a licença do titular da patente.\n",
        "\n",
        "Escolha uma:\n",
        "* a & b\n",
        "* a & d\n",
        "* b & c\n",
        "* b & d\n",
        "* c & d\n",
        "\n",
        "**Resposta: b & d.**"
      ]
    },
    {
      "cell_type": "markdown",
      "metadata": {
        "id": "JLd9rpwOdLOv",
        "colab_type": "text"
      },
      "source": [
        "# Questão 2\n",
        "Existe a \"patente mundial\".\n",
        "\n",
        "Escolha uma opção:\n",
        "* Verdadeiro\n",
        "* Falso\n",
        "\n",
        "**Resposta: Falso**"
      ]
    },
    {
      "cell_type": "markdown",
      "metadata": {
        "id": "F0Pm5qHSdWiH",
        "colab_type": "text"
      },
      "source": [
        "# Questão 3 \n",
        "A utilização do PCT torna a obtenção da proteção da patente mais simples e barata, em diversos Escritórios designados, evitando o depósito de vários pedidos em cada um dos Escritórios designados ao mesmo tempo.\n",
        "\n",
        "Escolha uma opção:\n",
        "* Verdadeiro\n",
        "* Falso\n",
        "\n",
        "**Resposta: 'Verdadeiro'**"
      ]
    },
    {
      "cell_type": "markdown",
      "metadata": {
        "id": "V2oJeKgIeUAy",
        "colab_type": "text"
      },
      "source": [
        "# Questão 4 \n",
        "O que acontece se você não pagar a taxa anual de proteção da patente em determinado país?\n",
        "\n",
        "Escolha uma:\n",
        "* Você obtém automaticamente a proteção por um novo período de um ano.\n",
        "* Se a proteção da patente caducar, não terá mais validade nesse país e vai para o domínio público para livre utilização;\n",
        "* Deve-se esperar no mínimo 20 anos antes que uma patente seja considerada legalmente extinta.\n",
        "\n",
        "**Resposta: Se a proteção da patente caducar, não terá mais validade nesse país e vai para o domínio público para livre utilização.**"
      ]
    },
    {
      "cell_type": "markdown",
      "metadata": {
        "id": "l3Kww0bFfe-x",
        "colab_type": "text"
      },
      "source": [
        "# Questão 5\n",
        "Entre os seguintes elementos, marque os dois que são mais frequentemente objeto de patente?\n",
        "\n",
        "a) Um novo processo químico. \n",
        "\n",
        "b) Um quadro. \n",
        "\n",
        "c) Um livro. \n",
        "\n",
        "d) Uma canção. \n",
        "\n",
        "e) O aperfeiçoamento de uma máquina para destilação de perfumes.\n",
        "\n",
        "Escolha uma:\n",
        "* a & b\n",
        "* a & d\n",
        "* b & d\n",
        "* a & e\n",
        "* c & e\n",
        "\n",
        "**Resposta: a & e.**"
      ]
    },
    {
      "cell_type": "markdown",
      "metadata": {
        "id": "ku_wn6v9gCxa",
        "colab_type": "text"
      },
      "source": [
        "# Questão 6\n",
        "Segundo os seus conhecimentos sobre legislação de patentes, escolha todas as razões na lista abaixo pelas quais uma \"máquina de moto perpétuo\" não pode obter a proteção da patente ?\n",
        "\n",
        "Escolha uma:\n",
        "* Porque as patentes não protegem a invenção de máquinas.\n",
        "* Porque já tinha sido inventada.\n",
        "* Porque a utilização de tal máquina é ilegal.\n",
        "* Porque tal máquina desafia as leis físicas da natureza.\n",
        "\n",
        "**Resposta: Porque tal máquina desafia as leis físicas da natureza.**"
      ]
    },
    {
      "cell_type": "markdown",
      "metadata": {
        "id": "_sNNyI2hgjSw",
        "colab_type": "text"
      },
      "source": [
        "# Questão 7\n",
        "Os ferros elétricos utilizados para passar roupas não possuíam cabo anatômico, ranhura próximo à base para proteger os botões (poupa botões que impede a queima destes pelo calor da base do ferro) e termostato com regulagem, que permite adaptar a temperatura do ferro ao tecido a ser passado. Se você tivesse que indicar um tipo de proteção para estas modificações, quais seriam estas proteções, respectivamente, para o cabo, protetor de botões e termostato\n",
        "\n",
        "Escolha uma:\n",
        "\n",
        "a) patente de invenção, patente de modelo de utilidade, patente de invenção\n",
        "\n",
        "b) patente de invenção, patente de invenção, patente de invenção\n",
        "\n",
        "c) desenho industrial, patente de invenção, patente de modelo de utilidade\n",
        "\n",
        "d) patente de modelo de utilidade, patente de modelo de utilidade, patente \n",
        "de invenção\n",
        "\n",
        "e) desenho industrial, patente de modelo de utilidade, patente de modelo de utilidade\n",
        "\n",
        "**Resposta: d) patente de modelo de utilidade, patente de modelo de utilidade, patente de invenção**"
      ]
    },
    {
      "cell_type": "markdown",
      "metadata": {
        "id": "MVQL5RQKhDBA",
        "colab_type": "text"
      },
      "source": [
        "#Questão 8\n",
        "O Sr. Silveira desenvolveu um novo aparelho e, para protegê-lo, depositou um pedido de patente de invenção em 02/02/2008 e reivindicou como prioridade um pedido anterior, com data de 02/03/2007, contendo a mesma matéria. Nas buscas efetuadas no estado da técnica, o escritório de patentes encontrou os seguintes documentos que tratam da mesma matéria/assunto que o Sr. Silveira deseja proteger, são eles: D1 depositado em 01/01/2000 e publicado em 01/07/2001; D2 depositado em 05/04/2007 e publicado em 20/10/2008 e D3 que foi depositado em 30/10/2008 e publicado em 25/05/2010.\n",
        "\n",
        "* I - D1 pode ser considerado estado da técnica porque foi publicado antes da prioridade do pedido de patente do Sr. Silveira. \n",
        " \n",
        "* II - D2 pode ser considerado estado da técnica porque foi depositado antes da data de depósito do pedido do Sr. Silveira. \n",
        "\n",
        "* III - D2 não pode ser considerado estado da técnica porque foi depositado após a data da prioridade do pedido do Sr. Silveira. \n",
        "\n",
        "* IV - A prioridade do Sr. Silveira é válida, pois atende ao prazo de 12 meses requeridos. \n",
        "\n",
        "* V - O documento D3 pode ser utilizado como estado da técnica, pois foi depositado após o pedido do Sr. Silveira. \n",
        "\n",
        "Assinale as alternativas corretas:\n",
        "\n",
        "Escolha uma:\n",
        "\n",
        "a) I, III, IV Correto\n",
        "\n",
        "b) I, IV, V\n",
        "\n",
        "c) I, III, V\n",
        "\n",
        "d) II, III, V\n",
        "\n",
        "e) II, IV, V\n",
        "\n",
        "**Resposta: a) I, III, IV.**"
      ]
    }
  ]
}