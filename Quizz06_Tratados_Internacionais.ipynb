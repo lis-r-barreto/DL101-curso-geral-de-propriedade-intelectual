{
  "nbformat": 4,
  "nbformat_minor": 0,
  "metadata": {
    "colab": {
      "name": "Quizz06_Tratados_Internacionais.ipynb",
      "provenance": [],
      "authorship_tag": "ABX9TyPOVWKWSUa+tb4J9TRz3cdy",
      "include_colab_link": true
    },
    "kernelspec": {
      "name": "python3",
      "display_name": "Python 3"
    }
  },
  "cells": [
    {
      "cell_type": "markdown",
      "metadata": {
        "id": "view-in-github",
        "colab_type": "text"
      },
      "source": [
        "<a href=\"https://colab.research.google.com/github/lis-r-barreto/DL101-curso-geral-de-propriedade-intelectual/blob/master/Quizz06_Tratados_Internacionais.ipynb\" target=\"_parent\"><img src=\"https://colab.research.google.com/assets/colab-badge.svg\" alt=\"Open In Colab\"/></a>"
      ]
    },
    {
      "cell_type": "markdown",
      "metadata": {
        "id": "20gXkYYPNjaq",
        "colab_type": "text"
      },
      "source": [
        "# **Tratados Internacionais - Teste de fim de módulo**"
      ]
    },
    {
      "cell_type": "markdown",
      "metadata": {
        "id": "N9i1GTGpSS20",
        "colab_type": "text"
      },
      "source": [
        "Questão 1. A principal finalidade do Sistema de Madri é:\n",
        "\n",
        "Escolha uma:\n",
        "* permitir o bom andamento do procedimento de registro dos desenhos e modelos industriais para inventores europeus.\n",
        "* facilitar a concessão de patentes em diversos países, internacionalmente.\n",
        "* administrar o registro internacional das marcas.\n",
        "\n",
        "**Resposta: administrar o registro internacional das marcas.**\n"
      ]
    },
    {
      "cell_type": "markdown",
      "metadata": {
        "id": "1GICk9V8SuBs",
        "colab_type": "text"
      },
      "source": [
        "Questão 2. A marca pode ser protegida internacionalmente durante:\n",
        "\n",
        "Escolha uma:\n",
        "* 75 anos a partir da data da concessão do registro.\n",
        "* um prazo fixo de 100 anos, com reexame e renovação do registro a cada 20 anos;\n",
        "* um prazo indeterminado, sob a condição de renovação do registro habitualmente a cada 10 anos.\n",
        "\n",
        "**Resposta: um prazo indeterminado, sob a condição de renovação do registro habitualmente a cada 10 anos.**"
      ]
    },
    {
      "cell_type": "markdown",
      "metadata": {
        "id": "VMAo_QtPTCAS",
        "colab_type": "text"
      },
      "source": [
        "Questão 3. O Sistema de registro internacional de desenhos e modelos industriais é:\n",
        "\n",
        "Escolha uma:\n",
        "* o Sistema de Madri.\n",
        "* o Acordo de Haia.\n",
        "* A Convenção de Roma.\n",
        "\n",
        "**Resposta: o Acordo de Haia.**\n"
      ]
    },
    {
      "cell_type": "markdown",
      "metadata": {
        "id": "fDrHYJzhTQBv",
        "colab_type": "text"
      },
      "source": [
        "Questão 4. A principal diferença entre a patente e o desenho ou modelo industrial :\n",
        "\n",
        "Escolha uma:\n",
        "* A patente protege a inovação e a invenção, enquanto o desenho ou modelo industrial protegem a aparência do objeto.\n",
        "* A patente protege a aparência do objeto enquanto o desenho ou modelo industrial protegem a nova inovação ou invenção.\n",
        "* Não existe diferença entre a patente e um desenho ou modelo industrial.\n",
        "\n",
        "**Resposta: A patente protege a inovação e a invenção, enquanto o desenho ou modelo industrial protegem a aparência do objeto.**\n"
      ]
    },
    {
      "cell_type": "markdown",
      "metadata": {
        "id": "aPHdr1AOTkTD",
        "colab_type": "text"
      },
      "source": [
        "Questão 5. O titular de um desenho ou modelo industrial tem a proteção durante:\n",
        "\n",
        "Escolha uma:\n",
        "* Um prazo fixo de 20 anos nos países da União Europeia.\n",
        "* Um prazo fixo de 50 anos com a possibilidade de renovação por mais 25 anos. \n",
        "* Um prazo fixo de 10, 15 ou 20 anos em geral, dependendo do país.\n",
        "\n",
        "**Resposta: Um prazo fixo de 10, 15 ou 20 anos em geral, dependendo do país.**\n"
      ]
    },
    {
      "cell_type": "markdown",
      "metadata": {
        "id": "94xINU6PTy8J",
        "colab_type": "text"
      },
      "source": [
        "Questão 6. A principal finalidade do Tratado de Cooperação em Matéria de Patentes :\n",
        "\n",
        "Escolha uma:\n",
        "* Simplificar e tornar mais eficiente o processo de depósito da proteção da patente em diversos países;\n",
        "* para conceder patentes mundiais;\n",
        "* para administrar o depósito de pedidos de patente em nível mundial.\n",
        "\n",
        "**Resposta: Simplificar e tornar mais eficiente o processo de depósito da proteção da patente em diversos países.**\n",
        "\n"
      ]
    },
    {
      "cell_type": "markdown",
      "metadata": {
        "id": "r52HAZXYUJbV",
        "colab_type": "text"
      },
      "source": [
        "Questão 7. As quatro etapas do processo previsto pelo Tratado de Cooperação em Matéria de Patentes são:\n",
        "\n",
        "Escolha uma:\n",
        "* o depósito, o exame internacional, a publicação internacional, a pesquisa internacional e a fase nacional.\n",
        "* o depósito, o exame internacional de patentes similares, a pesquisa internacional, a publicação internacional e a fase nacional.\n",
        "* o depósito, a pesquisa internacional, a publicação internacional, e o exame internacional.\n",
        "\n",
        "**Resposta: o depósito, a pesquisa internacional, a publicação internacional, e o exame internacional.**"
      ]
    },
    {
      "cell_type": "markdown",
      "metadata": {
        "id": "CacyKdK_UXJB",
        "colab_type": "text"
      },
      "source": [
        "Questão 8. O Tratado de Cooperação em Matéria de Patentes (PCT) não concede patentes.\n",
        "\n",
        "Escolha uma opção:\n",
        "* Verdadeiro\n",
        "* Falso \n",
        "\n",
        "**Resposta: 'Verdadeiro'**"
      ]
    }
  ]
}