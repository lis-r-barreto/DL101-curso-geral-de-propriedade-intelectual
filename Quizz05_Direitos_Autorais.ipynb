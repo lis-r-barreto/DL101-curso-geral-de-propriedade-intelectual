{
  "nbformat": 4,
  "nbformat_minor": 0,
  "metadata": {
    "colab": {
      "name": "Quizz05_Direitos_Autorais.ipynb",
      "provenance": [],
      "authorship_tag": "ABX9TyOkaWl9j/qacPdLx6KWb5HA",
      "include_colab_link": true
    },
    "kernelspec": {
      "name": "python3",
      "display_name": "Python 3"
    }
  },
  "cells": [
    {
      "cell_type": "markdown",
      "metadata": {
        "id": "view-in-github",
        "colab_type": "text"
      },
      "source": [
        "<a href=\"https://colab.research.google.com/github/lis-r-barreto/DL101-curso-geral-de-propriedade-intelectual/blob/master/Quizz05_Direitos_Autorais.ipynb\" target=\"_parent\"><img src=\"https://colab.research.google.com/assets/colab-badge.svg\" alt=\"Open In Colab\"/></a>"
      ]
    },
    {
      "cell_type": "markdown",
      "metadata": {
        "id": "EaBY409Wq6V3",
        "colab_type": "text"
      },
      "source": [
        "# **Direitos Autorais - Teste de fim de módulo**"
      ]
    },
    {
      "cell_type": "markdown",
      "metadata": {
        "id": "URYZdxRkrBC9",
        "colab_type": "text"
      },
      "source": [
        "Questão 1. Os direitos conexos se referem a:\n",
        "\n",
        "Escolha uma:\n",
        "* Patentes.\n",
        "* Direito autoral.\n",
        "* Marcas.\n",
        "\n",
        "**Resposta: Direito autoral.**"
      ]
    },
    {
      "cell_type": "markdown",
      "metadata": {
        "id": "Ri5AwdcnrMv1",
        "colab_type": "text"
      },
      "source": [
        "Questão 2. Que grupos de pessoas ou empresas não beneficiam dos direitos conexos?\n",
        "\n",
        "Escolha uma:\n",
        "* Artistas intérpretes ou executantes.\n",
        "* Produtores de fonogramas.\n",
        "* Provedores de Internet.\n",
        "* Empresas de radiodifusão.\n",
        "\n",
        "**Resposta: Provedores de internet.**"
      ]
    },
    {
      "cell_type": "markdown",
      "metadata": {
        "id": "2F2OLTJKrh8O",
        "colab_type": "text"
      },
      "source": [
        "Questão 3. O prazo de duração da proteção dos direitos conexos segundo a Convenção de Roma é de:\n",
        "\n",
        "Escolha uma:\n",
        "* 50 anos a partir do final do ano do óbito do artista intérprete ou executante.\n",
        "* 50 anos a partir do final do ano em que se realizou a execução.\n",
        "* 20 anos a partir do final do ano em que se realizou a execução.\n",
        "\n",
        "**Resposta: 20 anos a partir do final do ano em que se realizou a execução.**"
      ]
    },
    {
      "cell_type": "markdown",
      "metadata": {
        "id": "dgsBINlLrtVN",
        "colab_type": "text"
      },
      "source": [
        "Questão 4. Expressões do folclore:\n",
        "\n",
        "Escolha uma:\n",
        "* Podem obter uma proteção a título de direitos conexos.\n",
        "* Não são em si protegidos a título de direitos conexos.\n",
        "\n",
        "**Resposta: Não são em si protegidos a título de direitos conexos.**"
      ]
    }
  ]
}