{
  "nbformat": 4,
  "nbformat_minor": 0,
  "metadata": {
    "colab": {
      "name": "04_Desenho_Industrial.ipynb",
      "provenance": [],
      "authorship_tag": "ABX9TyNGcIzFo/sFuY6xC8RAgdbn",
      "include_colab_link": true
    },
    "kernelspec": {
      "name": "python3",
      "display_name": "Python 3"
    }
  },
  "cells": [
    {
      "cell_type": "markdown",
      "metadata": {
        "id": "view-in-github",
        "colab_type": "text"
      },
      "source": [
        "<a href=\"https://colab.research.google.com/github/lis-r-barreto/DL101-curso-geral-de-propriedade-intelectual/blob/master/04_Desenho_Industrial.ipynb\" target=\"_parent\"><img src=\"https://colab.research.google.com/assets/colab-badge.svg\" alt=\"Open In Colab\"/></a>"
      ]
    },
    {
      "cell_type": "markdown",
      "metadata": {
        "id": "ZK_d44NglTP5",
        "colab_type": "text"
      },
      "source": [
        "# **Desenho Industrial - Teste de fim de módulo**"
      ]
    },
    {
      "cell_type": "markdown",
      "metadata": {
        "id": "WU0NgmK-lbYp",
        "colab_type": "text"
      },
      "source": [
        "# Questão 1\n",
        "Quais dos seguintes itens não seria suscetível de proteção como desenho industrial?\n",
        "\n",
        "Escolha uma:\n",
        "\n",
        "* Um saca-rolhas.\n",
        "* Um porta-CDs.\n",
        "* Um logotipo.\n",
        "* Uma cadeira.\n",
        "* Uma escada.\n",
        "\n",
        "**Resposta: Um logotipo.**"
      ]
    },
    {
      "cell_type": "markdown",
      "metadata": {
        "id": "xnxyP1zelsPw",
        "colab_type": "text"
      },
      "source": [
        "# Questão 2\n",
        "Para obter proteção, um desenho industrial deve ser tridimensional.\n",
        "\n",
        "Escolha uma opção:\n",
        "* Verdadeiro\n",
        "* Falso\n",
        "\n",
        "**Resposta: 'Falso'**"
      ]
    },
    {
      "cell_type": "markdown",
      "metadata": {
        "id": "5hifdkVBmAEf",
        "colab_type": "text"
      },
      "source": [
        "# Questão 3\n",
        "O prazo máximo de proteção para um desenho industrial de acordo com a Lei 9279/1996 é de:\n",
        "\n",
        "Escolha uma:\n",
        "* 5 anos\n",
        "* 25 anos\n",
        "* 15 anos\n",
        "* 10 anos\n",
        "\n",
        "**Resposta: 25 anos.**"
      ]
    },
    {
      "cell_type": "markdown",
      "metadata": {
        "id": "0yKo5MkgmR5R",
        "colab_type": "text"
      },
      "source": [
        "# Questão 4\n",
        "Qual o nome do acordo internacional sobre o depósito internacional dos desenhos industriais?\n",
        "\n",
        "Escolha uma:\n",
        "* O Acordo de Paris\n",
        "* O Acordo de Genebra\n",
        "* O Protocolo de Amsterdã\n",
        "* O Acordo de Haia\n",
        "\n",
        "**Resposta: O Acordo de Haia.**"
      ]
    },
    {
      "cell_type": "markdown",
      "metadata": {
        "id": "gUuN8dJ-mjvH",
        "colab_type": "text"
      },
      "source": [
        "# Questão 5\n",
        "Qual das seguintes declarações sobre a proteção do desenho industrial está errada?\n",
        "\n",
        "Escolha uma:\n",
        "\n",
        "(a) Incentiva a criatividade\n",
        "\n",
        "(b) Recompensa o investimento feito na criação do novo objeto ou produto\n",
        "\n",
        "(c) Encoraja o investimento de dinheiro e esforço na P&D (pesquisa e desenvolvimento)\n",
        "\n",
        "(d) Exclui os concorrentes durante o prazo de proteção\n",
        "\n",
        "(e) Encoraja o investimento na aplicação industrial da invenção\n",
        "\n",
        "\n",
        "**Resposta: (e) Encoraja o investimento na aplicação industrial da invenção.**"
      ]
    },
    {
      "cell_type": "markdown",
      "metadata": {
        "id": "CftgOJHBm4YZ",
        "colab_type": "text"
      },
      "source": [
        "# Questão 6\n",
        "Nurik, um colegial, enquanto ajudava a sua mãe a cortar fruta na cozinha, criou um cortador com uma forma original, totalmente diferente de outros cortadores já conhecidos. A mãe de Nurik gostaria de saber qual seria a melhor maneira de proteger a criação de seu filho. Queira indicar qual das seguintes declarações está correta.\n",
        "\n",
        "Escolha uma:\n",
        "\n",
        "(a) Nurik não pode ser considerado um inventor, pois não é adulto\n",
        "\n",
        "(b) Nurik não deveria tentar obter proteção por patente, porque a invenção é um pequeno melhoramento no cortador existente e, portanto, não preenche a exigência de \"atividade inventiva\" relativa à proteção por patente\n",
        "\n",
        "(c) Nurik deveria proteger o novo cortador como desenho industrial, pois tem uma forma nova e original, passível de fabricação industrial Correto\n",
        "\n",
        "(d) É melhor guardar a invenção como um segredo comercial até Nurik ter idade para poder depositar um pedido de proteção por patente\n",
        "\n",
        "(e) Nurik é o inventor e pode procurar obter proteção por patente\n",
        "\n",
        "**Resposta: (c) Nurik deveria proteger o novo cortador como desenho industrial, pois tem uma forma nova e original, passível de fabricação industrial.**"
      ]
    }
  ]
}