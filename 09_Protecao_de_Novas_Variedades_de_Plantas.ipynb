{
  "nbformat": 4,
  "nbformat_minor": 0,
  "metadata": {
    "colab": {
      "name": "09_Protecao_de_Novas_Variedades_de_Plantas.ipynb",
      "provenance": [],
      "authorship_tag": "ABX9TyPUWj3B+AMpJ1eReyk4bDKO",
      "include_colab_link": true
    },
    "kernelspec": {
      "name": "python3",
      "display_name": "Python 3"
    }
  },
  "cells": [
    {
      "cell_type": "markdown",
      "metadata": {
        "id": "view-in-github",
        "colab_type": "text"
      },
      "source": [
        "<a href=\"https://colab.research.google.com/github/lis-r-barreto/DL101-curso-geral-de-propriedade-intelectual/blob/master/09_Protecao_de_Novas_Variedades_de_Plantas.ipynb\" target=\"_parent\"><img src=\"https://colab.research.google.com/assets/colab-badge.svg\" alt=\"Open In Colab\"/></a>"
      ]
    },
    {
      "cell_type": "markdown",
      "metadata": {
        "id": "z4nUzSSkPUnX",
        "colab_type": "text"
      },
      "source": [
        "# **Proteção de novas variedades de plantas - Teste de fim de módulo**"
      ]
    },
    {
      "cell_type": "markdown",
      "metadata": {
        "id": "08joURsnPXr3",
        "colab_type": "text"
      },
      "source": [
        "# Questão 1\n",
        "De acordo com a Lei Brasileira de Proteção de Cultivares (Lei nº 9.456/97), qual o prazo máximo de proteção dos direitos do criador de uma árvore? \n",
        "\n",
        "Escolha uma:\n",
        "\n",
        "* 10 anos\n",
        "* 15 anos\n",
        "* 20 anos\n",
        "* 18 anos\n",
        "* 70 anos\n",
        "\n",
        "**Resposta: 18 anos.**\n"
      ]
    },
    {
      "cell_type": "markdown",
      "metadata": {
        "id": "nkF2D81oPyCS",
        "colab_type": "text"
      },
      "source": [
        "# Questão 2\n",
        "Quais dos seguintes atos NÃO podem ser impedidos pelo titular dos direitos de criador?\n",
        "\n",
        "Escolha uma:\n",
        "* A importação de sementes para um país.\n",
        "* O uso da planta para criar uma nova variedade de planta.\n",
        "* A colheita de sementes para revenda\n",
        "\n",
        "**Resposta: O uso da planta para criar uma nova variedade de planta.**\n"
      ]
    },
    {
      "cell_type": "markdown",
      "metadata": {
        "id": "Buwo9L06P_oB",
        "colab_type": "text"
      },
      "source": [
        "# Questão 3\n",
        "Para obter a proteção de uma nova variedade de planta no Brasil é sempre necessário realizar o exame de DHE?\n",
        "\n",
        "Escolha uma:\n",
        "* Nem Sempre\n",
        "* Não\n",
        "* Sim\n",
        "\n",
        "**Resposta: Sim**\n"
      ]
    },
    {
      "cell_type": "markdown",
      "metadata": {
        "id": "JWRKg2VYQS8O",
        "colab_type": "text"
      },
      "source": [
        "# Questão 4\n",
        "\n",
        "De acordo com a Lei nº 9.456/97 qual dos seguintes direitos o titular de uma variedade vegetal não pode vedar a terceiros?\n",
        "\n",
        "Escolha uma:\n",
        "\n",
        "(a) Oferecer à venda\n",
        "\n",
        "(b) Importar\n",
        "\n",
        "(c) Utilizar para fins científicos\n",
        "\n",
        "(d) Exportar\n",
        "\n",
        "**Resposta: (c) Utilizar para fins científicos.**\n"
      ]
    },
    {
      "cell_type": "markdown",
      "metadata": {
        "id": "hMJ3QI2XQijC",
        "colab_type": "text"
      },
      "source": [
        "# Questão 5\n",
        "\n",
        "Qual é o prazo de proteção previsto pela Lei nº 9.456/97 para os grãos (oleaginosas e cereais)?\n",
        "\n",
        "Escolha uma:\n",
        "\n",
        "(a) 10 anos\n",
        "\n",
        "(b) 8 anos\n",
        "\n",
        "(c) 20 anos\n",
        "\n",
        "(d) 15 anos\n",
        "\n",
        "**(d) 15 anos.**\n"
      ]
    }
  ]
}