{
  "nbformat": 4,
  "nbformat_minor": 0,
  "metadata": {
    "colab": {
      "name": "07_Contratos_de_Tecnologia.ipynb",
      "provenance": [],
      "authorship_tag": "ABX9TyOn6G+blPJfNUkon6lDIEQE",
      "include_colab_link": true
    },
    "kernelspec": {
      "name": "python3",
      "display_name": "Python 3"
    }
  },
  "cells": [
    {
      "cell_type": "markdown",
      "metadata": {
        "id": "view-in-github",
        "colab_type": "text"
      },
      "source": [
        "<a href=\"https://colab.research.google.com/github/lis-r-barreto/DL101-curso-geral-de-propriedade-intelectual/blob/master/07_Contratos_de_Tecnologia.ipynb\" target=\"_parent\"><img src=\"https://colab.research.google.com/assets/colab-badge.svg\" alt=\"Open In Colab\"/></a>"
      ]
    },
    {
      "cell_type": "markdown",
      "metadata": {
        "id": "yOLh_wOT2sj5",
        "colab_type": "text"
      },
      "source": [
        "# **Contratos de Tecnologia - Teste de fim de módulo**"
      ]
    },
    {
      "cell_type": "markdown",
      "metadata": {
        "id": "ummmu31p2wqG",
        "colab_type": "text"
      },
      "source": [
        "# Questão 1\n",
        "A forma de transferência de tecnologia que tem como objeto característico a oferta de uma solução particular para um problema técnico de produção, com base em uma equipe especializada, é associada à modalidade contratual:\n",
        "\n",
        "Escolha uma:\n",
        "\n",
        "a) Franquia empresarial\n",
        "\n",
        "b) Licença de uso de marca\n",
        "\n",
        "c) Prestação de serviços de assistência técnica\n",
        "\n",
        "d) Licença para exploração de patentes\n",
        "\n",
        "e) Fornecimento de tecnologia\n",
        "\n",
        "**Resposta: c) Prestação de serviços de assistência técnica.**"
      ]
    },
    {
      "cell_type": "markdown",
      "metadata": {
        "id": "skoRcyQQ2_Rs",
        "colab_type": "text"
      },
      "source": [
        "# Questão 2\n",
        "Os negócios celebrados com tecnologias que não atendem ao requisito de novidade, nos termos estipulados pela lei para concessão de patentes, são geralmente organizados em contratos da modalidade:\n",
        "\n",
        "Escolha uma:\n",
        "\n",
        "a) Franquia empresarial\n",
        "\n",
        "b) Licença de uso de marca\n",
        "\n",
        "c) Prestação de serviços de assistência técnica\n",
        "\n",
        "d) Licença para exploração de patentes\n",
        "\n",
        "e) Fornecimento de tecnologia\n",
        "\n",
        "**Resposta: e) Fornecimento de tecnologia.**\n"
      ]
    },
    {
      "cell_type": "markdown",
      "metadata": {
        "id": "XAjxRxth3L1i",
        "colab_type": "text"
      },
      "source": [
        "# Questão 3\n",
        "Em relação ao termo de confidencialidade, é correto afirmar que esse é o mecanismo mais importante de proteção dos ativos intangíveis nos contratos de:\n",
        "\n",
        "Escolha uma:\n",
        "\n",
        "a) Franquia empresarial\n",
        "\n",
        "b) Uso de marca\n",
        "\n",
        "c) Exploração de patentes\n",
        "\n",
        "d) Exploração de desenho industrial\n",
        "\n",
        "e) Fornecimento de tecnologia\n",
        "\n",
        "**Resposta: e) Fornecimento de tecnologia.**\n"
      ]
    },
    {
      "cell_type": "markdown",
      "metadata": {
        "id": "JvNYe8wj3WLD",
        "colab_type": "text"
      },
      "source": [
        "# Questão 4\n",
        "Podemos considerar como característica distintiva dos contratos de cessão de direito de propriedade:\n",
        "\n",
        "Escolha uma:\n",
        "\n",
        "a) o prazo para exploração dos direitos que são objeto do contrato\n",
        "\n",
        "b) as condições e termos para exploração dos direitos que são objeto do contrato\n",
        "\n",
        "c) a especificação de um limite territorial para exploração do direito \n",
        "\n",
        "d) a transferência da titularidade dos direitos de propriedade industrial\n",
        "\n",
        "e) o valor de remuneração a ser utilizada na exploração dos direitos pelo novo titular\n",
        "\n",
        "**Resposta: d) a transferência da titularidade dos direitos de propriedade industrial.**"
      ]
    }
  ]
}